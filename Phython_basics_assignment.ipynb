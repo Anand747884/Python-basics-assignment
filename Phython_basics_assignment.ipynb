{
  "nbformat": 4,
  "nbformat_minor": 0,
  "metadata": {
    "colab": {
      "provenance": []
    },
    "kernelspec": {
      "name": "python3",
      "display_name": "Python 3"
    },
    "language_info": {
      "name": "python"
    }
  },
  "cells": [
    {
      "cell_type": "markdown",
      "source": [
        "# Python Basics Questions"
      ],
      "metadata": {
        "id": "bp3Qs5-3FICa"
      }
    },
    {
      "cell_type": "markdown",
      "source": [
        "1.What is Python, and why is it popular?\n",
        " > Python is a computer programming language often used to build websites and software, automate tasks, and analyze data. Python is a general-purpose language, not specialized for any specific problems, and used to create various programmes.\n",
        "\n",
        "    Python is popular for several reasons.\n",
        "\n",
        "a. It has a simple syntax that mimics natural language, so it’s easier to read and understand. This makes it quicker to build projects and faster to improve on them.\n",
        "\n",
        "b. It’s versatile. Python can be used for many different tasks, from web development to machine learning.\n",
        "\n",
        "c. It’s beginner friendly, making it popular for entry-level coders.\n",
        "\n",
        "d. It’s open source, which means it’s free to use and distribute, even for commercial purposes.\n",
        "\n",
        "e. Python’s archive of modules and libraries—bundles of code that third-party users have created to expand Python’s capabilities—is vast and growing.\n",
        "\n",
        "f. Python has a large and active community that contributes to Python’s pool of modules and libraries and acts as a helpful resource for other programmers. The vast support community means that when coders need help, finding a solution is relatively easy; somebody has likely encountered the same problem before\n"
      ],
      "metadata": {
        "id": "sHXOb9itF5ma"
      }
    },
    {
      "cell_type": "markdown",
      "source": [
        "2.What is an interpreter in Python?\n",
        "\n",
        "> Interpreters are the computer program that will convert the source code or an high level language into intermediate code (machine level language). It is also called translator in programming terminology. Interpreters executes each line of statements slowly. This process is called Interpretation. For example Python is an interpreted language, PHP, Ruby, and JavaScript."
      ],
      "metadata": {
        "id": "L3rwRhFBIXWa"
      }
    },
    {
      "cell_type": "markdown",
      "source": [
        "3.  What are pre-defined keywords in Python?\n",
        "\n",
        "> Python has a set of keywords that are reserved words that cannot be used as variable names, function names, or any other identifiers:\n",
        "\n",
        "True,\tFalse, None, and, or,\tnot,\tis,\tif, else,\telif,\tfor,\twhile, break,\tcontinue, pass, try except,\tfinally,\traise,\tassert, def,\treturn,\tlambda,\tyield, class,\timport,\tfrom,\tin, as,\tdel,\tglobal,\twith, nonlocal,\tasync,\tawait.\n",
        "\n",
        "if, elif, else – Used for conditional statements.\n",
        "\n",
        "for, while – Used for loops.\n",
        "\n",
        "def, class – Define functions and classes.\n",
        "\n",
        "import, from – Used for importing modules.\n",
        "\n",
        "True, False, None – Special values in Python.\n",
        "\n",
        "and, or, not – Logical operators.\n",
        "\n",
        "return, yield – Used in functions to return values.\n",
        "\n",
        "try, except, finally – Used for exception handling.\n",
        "\n",
        "\n",
        "True and False: These are boolean literals representing truth and falsehood, respectively. They are the results of logical operations and are fundamental for decision-making in code.\n",
        "\n",
        "None: This is a special constant representing the absence of a value or a null value. It's often used to indicate that a variable has not been assigned a value or that a function doesn't explicitly return anything.\n",
        "\n",
        "and, or, not: These are logical operators used to combine or negate boolean expressions.\n",
        "and: Returns True if both operands are True.\n",
        "or: Returns True if at least one operand is True.\n",
        "not: Returns the opposite boolean value of its operand.\n",
        "\n",
        "\n",
        "is: This is an identity operator that checks if two variables refer to the same object in memory. It's different from ==, which checks if the values of two objects are the same.\n",
        "\n",
        "if, else, elif: These keywords are used to create conditional statements, allowing different blocks of code to be executed based on whether certain conditions are true or false.\n",
        "if: Starts a conditional block.\n",
        "else: Specifies a block of code to be executed if the if condition is false.\n",
        "elif: (short for \"else if\") Allows you to check multiple conditions in sequence.\n",
        "\n",
        "for: This keyword is used to create loops that iterate over a sequence (like a list, tuple, string, or range) or other iterable objects.\n",
        "\n",
        "while: This keyword is used to create loops that continue to execute as long as a specified condition remains true.\n",
        "\n",
        "break: This statement is used to immediately terminate the execution of the innermost loop (for or while) and transfer control to the statement following the loop.\n",
        "\n",
        "continue: This statement is used within a loop to skip the rest of the current iteration and move to the next iteration of the loop.\n",
        "\n",
        "pass: This is a null operation. It's used as a placeholder where a statement is syntactically required but you don't want any code to be executed.\n",
        "\n",
        "try, except, finally: These keywords are used for exception handling, allowing you to gracefully manage errors that might occur during the execution of your code.\n",
        "try: Encloses a block of code where an exception might occur.\n",
        "except: Specifies a block of code to be executed if a particular type of exception occurs in the try block. You can have multiple except blocks to handle different exceptions.\n",
        "finally: Specifies a block of code that will always be executed, regardless of whether an exception occurred in the try block or not. It's often used for cleanup operations.\n",
        "\n",
        "raise: This statement is used to explicitly raise a specific exception, either a built-in exception or a user-defined one.\n",
        "\n",
        "assert: This statement is used for debugging purposes. It checks if a given condition is true. If it's false, it raises an AssertionError.\n",
        "\n",
        "def: This keyword is used to define a function, which is a reusable block of code that performs a specific task.\n",
        "\n",
        "return: This statement is used within a function to send a value back to the caller of the function. It also terminates the execution of the function.\n",
        "\n",
        "lambda: This keyword is used to create small, anonymous functions (functions without a name). They are often used for simple operations where a full function definition would be overly verbose.\n",
        "\n",
        "yield: This keyword is used to define generator functions. Unlike regular functions that return a single value and then terminate, generator functions can pause their execution and \"yield\" a series of values over time, making them memory-efficient for working with large sequences.\n",
        "\n",
        "class: This keyword is used to define a class, which is a blueprint for creating objects in object-oriented programming. Classes encapsulate data (attributes) and methods (functions) that operate on that data.\n",
        "\n",
        "import: This statement is used to bring in modules or packages into your current Python script, allowing you to use the functions, classes, and variables defined in those external files.\n",
        "\n",
        "from: This keyword is often used with import to import specific names (like functions or classes) from a module or package directly into your current namespace.\n",
        "\n",
        "in: This keyword has several uses:\n",
        "It's used as a membership operator to check if a value exists within a sequence (like a list, tuple, or string).\n",
        "It's used in for loops to iterate over the elements of a sequence or iterable.\n",
        "\n",
        "as: This keyword is used to create an alias when importing modules or handling exceptions, giving them a different name within your current scope.\n",
        "\n",
        "del: This statement is used to delete references to objects. It can also be used to remove items from mutable sequences (like lists) or key-value pairs from dictionaries.\n",
        "\n",
        "global: This keyword is used within a function to declare that a variable being referenced is a global variable (defined outside the function's scope). This allows you to modify global variables from within a function.\n",
        "\n",
        "with: This statement is used with context managers (objects that define __enter__ and __exit__ methods) to ensure that certain setup and cleanup operations are performed automatically, such as closing files or releasing resources.\n",
        "\n",
        "nonlocal: This keyword is used within nested functions to declare that a variable being referenced is from the nearest enclosing function's scope (but not the global scope). This allows you to modify variables in the outer function's scope from within the inner function.\n",
        "\n",
        "async: This keyword is used to define asynchronous functions (coroutines). Asynchronous functions can pause their execution while waiting for I/O operations to complete, allowing other code to run concurrently.\n",
        "\n",
        "await: This keyword can only be used inside an async function. It's used to pause the execution of the asynchronous function until an awaitable object (like a coroutine) has completed.\n",
        "\n",
        "     Understanding these keywords is fundamental to writing any Python code. They provide the basic structure and control flow that make your programs work!\n",
        "\n"
      ],
      "metadata": {
        "id": "LbHIdBQ8beBh"
      }
    },
    {
      "cell_type": "markdown",
      "source": [
        "4.  Can keywords be used as variable names?\n",
        "\n",
        "> No, keywords cannot be used as variable names in Python because they are reserved words that have predefined meanings in the language. Since keywords serve specific purposes—such as defining functions (def), loops (for, while), and logical operations (and, or)—using them as variable names would cause syntax errors.\n",
        "  For example, if you try to assign a value to a keyword like for:\n",
        "    for = 10  # ❌ This will result in a syntax error\n"
      ],
      "metadata": {
        "id": "BMOIrF5TgetQ"
      }
    },
    {
      "cell_type": "markdown",
      "source": [
        "5.  What is mutability in Python?\n",
        "\n",
        ">   Mutability in Python is a crucial concept to grasp as it affects how you work with different data types. It refers to whether the state of an object can be changed after it is created."
      ],
      "metadata": {
        "id": "2L1BuHKUhXKB"
      }
    },
    {
      "cell_type": "markdown",
      "source": [
        "6.  Why are lists mutable, but tuples are immutable?\n",
        "\n",
        ">  Lists are mutable, meaning their elements can be changed after creation, while tuples are immutable, meaning their elements cannot be modified. This difference arises due to their internal structure and intended use."
      ],
      "metadata": {
        "id": "E7EFfCZEiHSp"
      }
    },
    {
      "cell_type": "markdown",
      "source": [
        "7.  What is the difference between “==” and “is” operators in Python?\n",
        "\n",
        "> == (Equality Operator): Checks whether two objects have the same value.\n",
        "\n",
        "    Example: a = [1, 2, 3]\n",
        "             b = [1, 2, 3]\n",
        "             print(a == b)  # ✅ True, because their values are the same.\n",
        "\n",
        "  is (Identity Operator): Checks whether two objects refer to the same memory location.\n",
        "\n",
        "    Example: a = [1, 2, 3]\n",
        "             b = a  # b now refers to the same object as a\n",
        "             print(a is b)  # ✅ True, because they are the same object\n",
        "\n",
        "\n",
        "  \n",
        "\n"
      ],
      "metadata": {
        "id": "iKKXQPB7i2KE"
      }
    },
    {
      "cell_type": "markdown",
      "source": [
        "8. What are logical operators in Python?\n",
        "\n",
        ">  Logical operators in Python are used to combine conditional statements and evaluate expressions that return Boolean values (True or False). Python has three logical operators:\n",
        "\n",
        "1. and – Returns True if both conditions are True.\n",
        "    x = 5\n",
        "print(x > 2 and x < 10)  # ✅ True (both conditions are true)\n",
        "\n",
        "2. or – Returns True if at least one condition is True.\n",
        "    x = 5\n",
        "print(x > 2 or x > 10)  # ✅ True (one condition is true)\n",
        "\n",
        "3. not – Reverses the result; returns False if the condition is True, and vice versa.\n",
        "    x = 5\n",
        "print(not(x > 2 and x < 10))  # ❌ False (negates the true result)\n",
        "\n",
        "        Logical operators are commonly used in decision-making and loop conditions to control program flow.\n"
      ],
      "metadata": {
        "id": "YwvYo3mXkWKO"
      }
    },
    {
      "cell_type": "markdown",
      "source": [
        "9. What is type casting in Python?\n",
        "\n",
        "> Type casting in Python refers to converting one data type into another. It is useful when handling different types of data in operations."
      ],
      "metadata": {
        "id": "J-sBNWWdmATF"
      }
    },
    {
      "cell_type": "markdown",
      "source": [
        "10. What is the difference between implicit and explicit type casting?\n",
        "\n",
        "> The difference between implicit and explicit type casting are:\n",
        "\n",
        "1. Implicit Type Casting (Automatic Conversion)\n",
        "Python automatically converts one data type to another when needed.\n",
        "\n",
        "Example:\n",
        "\n",
        "    num_int = 10\n",
        "\n",
        "    num_float = 5.5\n",
        "\n",
        "    result = num_int + num_float  # Python converts num_int to float automatically\n",
        "    \n",
        "    print(result)  # Output: 15.5\n",
        "\n",
        "Here, Python promotes num_int (integer) to float to prevent data loss.\n",
        "\n",
        "2. Explicit Type Casting (Manual Conversion)\n",
        "The programmer manually converts data types using built-in functions:\n",
        "\n",
        "    int() – Converts to an integer.\n",
        "\n",
        "    float() – Converts to a floating-point number.\n",
        "\n",
        "    str() – Converts to a string.\n",
        "\n",
        "    bool() – Converts to a boolean.\n",
        "\n",
        "Example:\n",
        "\n",
        "    num_str = \"100\"\n",
        "    num_int = int(num_str)  # Explicitly converting string to integer\n",
        "    print(num_int + 50)  # Output: 150\n",
        "\n",
        "Type casting is essential for data manipulation, user input handling, and mathematical operations in Python.\n"
      ],
      "metadata": {
        "id": "r5DxS9FKvuqR"
      }
    },
    {
      "cell_type": "markdown",
      "source": [
        "11.  What is the purpose of conditional statements in Python?\n",
        "\n",
        "> Conditional statements in Python are used to control the flow of execution based on certain conditions. They allow a program to make decisions and execute different blocks of code depending on whether a condition evaluates to True or False.\n",
        "\n",
        "Purpose of Conditional Statements:-\n",
        "\n",
        "*Decision Making: Execute specific code only when a condition is met.\n",
        "\n",
        "\n",
        "*Dynamic Behavior: Adjust program execution based on user input or data.\n",
        "\n",
        "*Error Handling: Prevent unintended operations by checking conditions before execution.\n",
        "\n",
        "*Loop Control: Used within loops to break or continue execution based on conditions."
      ],
      "metadata": {
        "id": "qdPpSW2iwvaL"
      }
    },
    {
      "cell_type": "markdown",
      "source": [
        "12.  How does the elif statement work?\n",
        "\n",
        "> The elif statement in Python is used for multiple conditional checks. It allows a program to evaluate several conditions sequentially and execute the first block of code that evaluates to true.\n",
        "\n",
        "  *It Works like this:\n",
        "\n",
        "a.The program first checks the if condition.\n",
        "\n",
        "b.If if is False, it moves to the elif condition.\n",
        "\n",
        "c. If elif is True, it executes the corresponding block.\n",
        "\n",
        "d.If none of the conditions are True, the else block executes.\n",
        "\n",
        "Example:\n",
        "\n",
        "score = 85\n",
        "\n",
        "if score >= 90:\n",
        "\n",
        "    print(\"Grade: A\")\n",
        "elif score >= 80:\n",
        "\n",
        "    print(\"Grade: B\")  # ✅ This condition is True, so this block executes\n",
        "elif score >= 70:\n",
        "\n",
        "    print(\"Grade: C\")\n",
        "else:\n",
        "\n",
        "    print(\"Grade: D\")\n"
      ],
      "metadata": {
        "id": "ep_Ci381xRzr"
      }
    },
    {
      "cell_type": "markdown",
      "source": [
        "13. What is the difference between for and while loops?\n",
        "\n",
        "> The difference between for and while loops in Python lies in their usage and control mechanism.\n",
        "\n",
        "For Loop:\n",
        "\n",
        "Used when the number of iterations is known.\n",
        "\n",
        "Iterates over a sequence (list, tuple, string, range, etc.).\n",
        "\n",
        "Example:\n",
        "\n",
        "    for i in range(5):  # Loops 5 times\n",
        "\n",
        "    print(i)\n",
        "\n",
        "\n",
        "While Loop:\n",
        "\n",
        "Used when the number of iterations is unknown and depends on a condition.\n",
        "\n",
        "Continues executing until the condition becomes False.\n",
        "\n",
        "Example:\n",
        "\n",
        "    x = 0\n",
        "    while x < 5:  # Runs until x reaches 5\n",
        "    print(x)\n",
        "    x += 1\n",
        "\n",
        "\n",
        "\n",
        "\n"
      ],
      "metadata": {
        "id": "VqOzg7Lmtcyh"
      }
    },
    {
      "cell_type": "markdown",
      "source": [
        "14.  Describe a scenario where a while loop is more suitable than a for loop.\n",
        "\n",
        ">  A while loop is more suitable than a for loop when the number of iterations is unknown beforehand and depends on a condition being met.\n",
        "\n",
        "  Example Scenario: User Input Validation\n",
        "Imagine you are writing a program that asks the user to enter a valid password. Since you don’t know how many attempts the user will need, a while loop is ideal.\n",
        "\n",
        "    correct_password = \"Python123\"\n",
        "\n",
        "    user_input = \"\"\n",
        "\n",
        "    while user_input != correct_password:  # Loop runs until the correct password is entered\n",
        "\n",
        "    user_input = input(\"Enter the password: \")\n",
        "\n",
        "    print(\"Access granted!\")\n",
        "\n",
        "\n",
        "\n",
        "\n"
      ],
      "metadata": {
        "id": "mkfkBcDmt50o"
      }
    },
    {
      "cell_type": "markdown",
      "source": [
        "#  Practical Questions"
      ],
      "metadata": {
        "id": "NL6vIYKVwK_g"
      }
    },
    {
      "cell_type": "code",
      "source": [
        "# 1.Write a Python program to print \"Hello, World!\n",
        "\n",
        "print(\"Hello, World!\")\n"
      ],
      "metadata": {
        "colab": {
          "base_uri": "https://localhost:8080/"
        },
        "id": "0t7s26MOyGE3",
        "outputId": "2bb64484-087b-4ebb-89ad-932bdd1d1dd2"
      },
      "execution_count": 11,
      "outputs": [
        {
          "output_type": "stream",
          "name": "stdout",
          "text": [
            "Hello, World!\n"
          ]
        }
      ]
    },
    {
      "cell_type": "code",
      "source": [
        "# 2.Write a Python program that displays your name and age.\n",
        "\n",
        "\n",
        "my_name = \"Anand\"\n",
        "my_age = 25\n",
        "\n",
        "print(\"My name is\", my_name, \"and I am\", my_age, \"years old.\")"
      ],
      "metadata": {
        "colab": {
          "base_uri": "https://localhost:8080/"
        },
        "id": "xNNtCRv4zBqi",
        "outputId": "44f1051a-d2ea-40cb-af31-f2e3a8b42f56"
      },
      "execution_count": 16,
      "outputs": [
        {
          "output_type": "stream",
          "name": "stdout",
          "text": [
            "My name is Anand and I am 25 years old.\n"
          ]
        }
      ]
    },
    {
      "cell_type": "code",
      "source": [
        "#  3.Write code to print all the pre-defined keywords in Python using the keyword library\n",
        "\n",
        "\n",
        "import keyword\n",
        "\n",
        "# Print all Python keywords\n",
        "print(\"Python Keywords:\")\n",
        "print(keyword.kwlist)\n",
        "\n"
      ],
      "metadata": {
        "colab": {
          "base_uri": "https://localhost:8080/"
        },
        "id": "sNafIXHdz0et",
        "outputId": "24d56976-6e31-45aa-f561-7114ac18d851"
      },
      "execution_count": 17,
      "outputs": [
        {
          "output_type": "stream",
          "name": "stdout",
          "text": [
            "Python Keywords:\n",
            "['False', 'None', 'True', 'and', 'as', 'assert', 'async', 'await', 'break', 'class', 'continue', 'def', 'del', 'elif', 'else', 'except', 'finally', 'for', 'from', 'global', 'if', 'import', 'in', 'is', 'lambda', 'nonlocal', 'not', 'or', 'pass', 'raise', 'return', 'try', 'while', 'with', 'yield']\n"
          ]
        }
      ]
    },
    {
      "cell_type": "code",
      "source": [
        "#  4.Write a program that checks if a given word is a Python keyword.\n",
        "\n",
        "\n",
        "import keyword\n",
        "\n",
        "# Get user input\n",
        "word = input(\"True: \")\n",
        "\n",
        "# Check if it's a Python keyword\n",
        "if keyword.iskeyword(word):\n",
        "    print(f'\"{True}\" is a Python keyword.')\n",
        "else:\n",
        "    print(f'\"{True}\" is NOT a Python keyword.')\n"
      ],
      "metadata": {
        "colab": {
          "base_uri": "https://localhost:8080/"
        },
        "id": "PNba_QqD03JG",
        "outputId": "14de1b16-3fb2-472c-f6d1-46cbf9b486b4"
      },
      "execution_count": 22,
      "outputs": [
        {
          "output_type": "stream",
          "name": "stdout",
          "text": [
            "True: True\n",
            "\"True\" is a Python keyword.\n"
          ]
        }
      ]
    },
    {
      "cell_type": "code",
      "source": [
        "# 5.Create a list and tuple in Python, and demonstrate how attempting to change an element works differently for each.\n",
        "\n",
        "\n",
        "# Creating a list and tuple\n",
        "my_list = [1, 2, 3]\n",
        "my_tuple = (1, 2, 3)\n",
        "\n",
        "# Modifying the list (allowed)\n",
        "my_list[0] = 100\n",
        "print(\"Modified List:\", my_list)  # Output: [100, 2, 3]\n",
        "\n",
        "# Attempting to modify the tuple (raises an error)\n",
        "try:\n",
        "    my_tuple[0] = 100\n",
        "except TypeError as e:\n",
        "    print(\"Error:\", e)  # Output: 'tuple' object does not support item assignment\n",
        "\n"
      ],
      "metadata": {
        "colab": {
          "base_uri": "https://localhost:8080/"
        },
        "id": "sHAudYmN1_Hv",
        "outputId": "45381be7-9f94-4ef3-c776-5d60041ea7da"
      },
      "execution_count": 23,
      "outputs": [
        {
          "output_type": "stream",
          "name": "stdout",
          "text": [
            "Original List: [1, 2, 3]\n",
            "Modified List: [100, 2, 3]\n",
            "\n",
            "Original Tuple: (1, 2, 3)\n",
            "Error: 'tuple' object does not support item assignment\n"
          ]
        }
      ]
    },
    {
      "cell_type": "code",
      "source": [
        "# 6.Write a function to demonstrate the behavior of mutable and immutable arguments.\n",
        "\n",
        "def modify_arguments(mutable_list, immutable_num):\n",
        "    # Modifying the list (Mutable)\n",
        "    mutable_list.append(100)\n",
        "\n",
        "    # Modifying the integer (Immutable)\n",
        "    immutable_num += 10  # This creates a new integer, doesn't modify the original\n",
        "\n",
        "    print(\"Inside function:\")\n",
        "    print(\"Mutable list:\", mutable_list)\n",
        "    print(\"Immutable number:\", immutable_num)\n",
        "\n",
        "# Define a mutable and immutable argument\n",
        "my_list = [1, 2, 3]\n",
        "my_num = 50\n",
        "\n",
        "# Call the function\n",
        "modify_arguments(my_list, my_num)\n",
        "\n",
        "print(\"\\nOutside function:\")\n",
        "print(\"Mutable list:\", my_list)  # ✅ List is modified\n",
        "print(\"Immutable number:\", my_num)  # ❌ Integer remains unchanged\n"
      ],
      "metadata": {
        "colab": {
          "base_uri": "https://localhost:8080/"
        },
        "id": "dprThXxt3Gs9",
        "outputId": "31c9e67d-a810-48e7-ec8e-6597f51b641d"
      },
      "execution_count": 24,
      "outputs": [
        {
          "output_type": "stream",
          "name": "stdout",
          "text": [
            "Inside function:\n",
            "Mutable list: [1, 2, 3, 100]\n",
            "Immutable number: 60\n",
            "\n",
            "Outside function:\n",
            "Mutable list: [1, 2, 3, 100]\n",
            "Immutable number: 50\n"
          ]
        }
      ]
    },
    {
      "cell_type": "code",
      "source": [
        "#  7. Write a program that performs basic arithmetic operations on two user-input numbers.\n",
        "\n",
        "\n",
        "# Get user input\n",
        "num1 = float(input(\"Enter first number: \"))\n",
        "num2 = float(input(\"Enter second number: \"))\n",
        "\n",
        "# Perform arithmetic operations\n",
        "print(\"\\nResults:\")\n",
        "print(f\"Addition: {num1} + {num2} = {num1 + num2}\")\n",
        "print(f\"Subtraction: {num1} - {num2} = {num1 - num2}\")\n",
        "print(f\"Multiplication: {num1} × {num2} = {num1 * num2}\")\n",
        "\n",
        "# Handle division separately to avoid division by zero error\n",
        "if num2 != 0:\n",
        "    print(f\"Division: {num1} ÷ {num2} = {num1 / num2}\")\n",
        "else:\n",
        "    print(\"Division: Cannot divide by zero!\")\n",
        "\n"
      ],
      "metadata": {
        "colab": {
          "base_uri": "https://localhost:8080/"
        },
        "id": "NyduvNVP4rxZ",
        "outputId": "ebbb633e-18af-4c2f-a5f1-2c61ab7738f4"
      },
      "execution_count": 31,
      "outputs": [
        {
          "output_type": "stream",
          "name": "stdout",
          "text": [
            "Enter first number: 45\n",
            "Enter second number: 55\n",
            "\n",
            "Results:\n",
            "Addition: 45.0 + 55.0 = 100.0\n",
            "Subtraction: 45.0 - 55.0 = -10.0\n",
            "Multiplication: 45.0 × 55.0 = 2475.0\n",
            "Division: 45.0 ÷ 55.0 = 0.8181818181818182\n"
          ]
        }
      ]
    },
    {
      "cell_type": "code",
      "source": [
        "# 8. Write a program to demonstrate the use of logical operators.\n",
        "\n",
        "# Get user input\n",
        "num1 = int(input(\"Enter first number: \"))\n",
        "num2 = int(input(\"Enter second number: \"))\n",
        "\n",
        "# Logical operations\n",
        "print(\"\\nResults:\")\n",
        "print(f\"AND Operation: {num1} > 0 and {num2} > 0 → {num1 > 0 and num2 > 0}\")\n",
        "print(f\"OR Operation: {num1} > 0 or {num2} > 0 → {num1 > 0 or num2 > 0}\")\n",
        "print(f\"NOT Operation: not({num1} > {num2}) → {not(num1 > num2)}\")\n"
      ],
      "metadata": {
        "colab": {
          "base_uri": "https://localhost:8080/"
        },
        "id": "1DKN0QFh9NGo",
        "outputId": "e373adb0-0819-4f86-de62-06dfa8e6b4c4"
      },
      "execution_count": 32,
      "outputs": [
        {
          "output_type": "stream",
          "name": "stdout",
          "text": [
            "Enter first number: 23333\n",
            "Enter second number: 5555\n",
            "\n",
            "Results:\n",
            "AND Operation: 23333 > 0 and 5555 > 0 → True\n",
            "OR Operation: 23333 > 0 or 5555 > 0 → True\n",
            "NOT Operation: not(23333 > 5555) → False\n"
          ]
        }
      ]
    },
    {
      "cell_type": "code",
      "source": [
        " # 9. Write a Python program to convert user input from string to integer, float, and boolean types.\n",
        "\n",
        " # Get user input\n",
        "user_input = input(\"Enter a value: \")\n",
        "\n",
        "# Convert to different types\n",
        "int_value = int(user_input) if user_input.isdigit() else \"Invalid Integer\"\n",
        "float_value = float(user_input) if user_input.replace(\".\", \"\", 1).isdigit() else \"Invalid Float\"\n",
        "bool_value = bool(user_input)  # Non-empty strings evaluate to True\n",
        "\n",
        "# Display the results\n",
        "print(\"\\nConversions:\")\n",
        "print(f\"Integer: {int_value}\")\n",
        "print(f\"Float: {float_value}\")\n",
        "print(f\"Boolean: {bool_value}\")\n"
      ],
      "metadata": {
        "colab": {
          "base_uri": "https://localhost:8080/"
        },
        "id": "gy3-yWwv9MeO",
        "outputId": "7e8f9ce7-8cf5-43dc-958c-a4eef5fdbcab"
      },
      "execution_count": 33,
      "outputs": [
        {
          "output_type": "stream",
          "name": "stdout",
          "text": [
            "Enter a value: 55\n",
            "\n",
            "Conversions:\n",
            "Integer: 55\n",
            "Float: 55.0\n",
            "Boolean: True\n"
          ]
        }
      ]
    },
    {
      "cell_type": "code",
      "source": [
        "# 10. Write code to demonstrate type casting with list elements.\n",
        "\n",
        "# Creating a list with mixed data types\n",
        "my_list = [\"10\", \"20.5\", \"True\", \"hello\"]\n",
        "\n",
        "# Performing type casting\n",
        "int_value = int(my_list[0])  # String to Integer\n",
        "float_value = float(my_list[1])  # String to Float\n",
        "bool_value = bool(my_list[2])  # String to Boolean\n",
        "\n",
        "# Display results\n",
        "print(\"Original List:\", my_list)\n",
        "print(\"Converted Values:\")\n",
        "print(f\"Integer: {int_value} (from '{my_list[0]}')\")\n",
        "print(f\"Float: {float_value} (from '{my_list[1]}')\")\n",
        "print(f\"Boolean: {bool_value} (from '{my_list[2]}')\")\n"
      ],
      "metadata": {
        "colab": {
          "base_uri": "https://localhost:8080/"
        },
        "id": "WjRizApV_AiK",
        "outputId": "b53aef5f-566e-4255-d490-8b75edbfd1ca"
      },
      "execution_count": 34,
      "outputs": [
        {
          "output_type": "stream",
          "name": "stdout",
          "text": [
            "Original List: ['10', '20.5', 'True', 'hello']\n",
            "Converted Values:\n",
            "Integer: 10 (from '10')\n",
            "Float: 20.5 (from '20.5')\n",
            "Boolean: True (from 'True')\n"
          ]
        }
      ]
    },
    {
      "cell_type": "code",
      "source": [
        "#  11. Write a program that checks if a number is positive, negative, or zero.\n",
        "\n",
        "# Get user input\n",
        "num = float(input(\"Enter a number: \"))\n",
        "\n",
        "# Check the condition\n",
        "if num > 0:\n",
        "    print(\"The number is positive.\")\n",
        "elif num < 0:\n",
        "    print(\"The number is negative.\")\n",
        "else:\n",
        "    print(\"The number is zero.\")\n"
      ],
      "metadata": {
        "colab": {
          "base_uri": "https://localhost:8080/"
        },
        "id": "monbNrhRMlAv",
        "outputId": "c0752c4c-02c5-4c8f-890c-3a2d49200e65"
      },
      "execution_count": 37,
      "outputs": [
        {
          "output_type": "stream",
          "name": "stdout",
          "text": [
            "Enter a number: 0\n",
            "The number is zero.\n"
          ]
        }
      ]
    },
    {
      "cell_type": "code",
      "source": [
        "#  12. Write a for loop to print numbers from 1 to 10.\n",
        "\n",
        "# Using a for loop to print numbers from 1 to 10\n",
        "for num in range(1, 11):  # The range starts at 1 and ends at 10\n",
        "    print(num)\n",
        "\n",
        "\n"
      ],
      "metadata": {
        "colab": {
          "base_uri": "https://localhost:8080/"
        },
        "id": "0yVtnZCwNGQ2",
        "outputId": "1779a88d-67eb-4863-f69e-d6409774f9f5"
      },
      "execution_count": 40,
      "outputs": [
        {
          "output_type": "stream",
          "name": "stdout",
          "text": [
            "1\n",
            "2\n",
            "3\n",
            "4\n",
            "5\n",
            "6\n",
            "7\n",
            "8\n",
            "9\n",
            "10\n"
          ]
        }
      ]
    },
    {
      "cell_type": "code",
      "source": [
        "#  13. Write a Python program to find the sum of all even numbers between 1 and 50.\n",
        "\n",
        "\n",
        "# Initialize sum variable\n",
        "sum_even = 0\n",
        "\n",
        "# Loop through numbers 1 to 50\n",
        "for num in range(1, 51):\n",
        "    if num % 2 == 0:  # Check if number is even\n",
        "        sum_even += num\n",
        "\n",
        "# Display the result\n",
        "print(\"Sum of even numbers between 1 and 50:\", sum_even)\n"
      ],
      "metadata": {
        "colab": {
          "base_uri": "https://localhost:8080/"
        },
        "id": "7C2kVB3DNnqn",
        "outputId": "c7c6fdf9-5c1e-430f-de0d-63059370e5fe"
      },
      "execution_count": 42,
      "outputs": [
        {
          "output_type": "stream",
          "name": "stdout",
          "text": [
            "Sum of even numbers between 1 and 50: 650\n"
          ]
        }
      ]
    },
    {
      "cell_type": "code",
      "source": [
        "#  14. Write a program to reverse a string using a while loop.\n",
        "\n",
        "# Get user input\n",
        "text = input(\"Enter a string: \")\n",
        "\n",
        "# Initialize variables\n",
        "reversed_text = \"\"\n",
        "index = len(text) - 1  # Start from the last character\n",
        "\n",
        "# Use while loop to reverse the string\n",
        "while index >= 0:\n",
        "    reversed_text += text[index]  # Append characters in reverse order\n",
        "    index -= 1  # Move to the previous character\n",
        "\n",
        "# Display the reversed string\n",
        "print(\"Reversed String:\", reversed_text)\n"
      ],
      "metadata": {
        "id": "X79r027nOKvz"
      },
      "execution_count": null,
      "outputs": []
    },
    {
      "cell_type": "code",
      "source": [
        "#  15. Write a Python program to calculate the factorial of a number provided by the user using a while loop.\n",
        "\n",
        "# Get user input\n",
        "num = int(input(\"Enter a number: \"))\n",
        "\n",
        "# Initialize factorial result\n",
        "factorial = 1\n",
        "i = 1  # Starting counter\n",
        "\n",
        "# Compute factorial using while loop\n",
        "while i <= num:\n",
        "    factorial *= i\n",
        "    i += 1  # Increment counter\n",
        "\n",
        "# Display the result\n",
        "print(f\"Factorial of {num} is {factorial}\")\n"
      ],
      "metadata": {
        "colab": {
          "base_uri": "https://localhost:8080/"
        },
        "id": "wVlP3pDCOgKR",
        "outputId": "11c37344-3a34-4ed0-d568-331fda2c16f6"
      },
      "execution_count": 46,
      "outputs": [
        {
          "output_type": "stream",
          "name": "stdout",
          "text": [
            "Enter a number: 5\n",
            "Factorial of 5 is 120\n"
          ]
        }
      ]
    }
  ]
}